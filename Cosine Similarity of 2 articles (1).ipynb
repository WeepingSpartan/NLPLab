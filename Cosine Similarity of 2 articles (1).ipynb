{
 "cells": [
  {
   "cell_type": "code",
   "execution_count": 1,
   "metadata": {},
   "outputs": [],
   "source": [
    "from sklearn.metrics.pairwise import cosine_similarity\n"
   ]
  },
  {
   "cell_type": "code",
   "execution_count": 22,
   "metadata": {},
   "outputs": [
    {
     "name": "stdout",
     "output_type": "stream",
     "text": [
      "[[0.06454972]]\n"
     ]
    }
   ],
   "source": [
    "similarity=cosine_similarity(vect.transform([\"One of the the finer books I read this year was John Kaags Hiking with Nietzsche, in which Kaag, a professor of philosophy, rekindles his passion for the German thinker while tracing picturesque iking trails in the mountains of Switzerland.\"]).toarray(),vect.transform(['''Summer is a charming flirt. Easygoing and casual. summer doesn't huff and puff to win our affections. It has us at \"Hello.\" Winter broods like the tortured protagonist of big fat Russian novel. ''']).toarray())\n",
    "print(similarity)"
   ]
  },
  {
   "cell_type": "code",
   "execution_count": 3,
   "metadata": {},
   "outputs": [],
   "source": [
    "import nltk\n",
    "from nltk.stem import PorterStemmer\n",
    "stemmer = PorterStemmer()\n",
    "\n",
    "example = \"The cat was chasing a mouse\"\n",
    "example = [stemmer.stem(token) for token in example.split(\" \")]"
   ]
  },
  {
   "cell_type": "code",
   "execution_count": 4,
   "metadata": {},
   "outputs": [
    {
     "name": "stdout",
     "output_type": "stream",
     "text": [
      "the cat wa chase a mous\n"
     ]
    }
   ],
   "source": [
    "print(\" \".join(example))"
   ]
  },
  {
   "cell_type": "code",
   "execution_count": 5,
   "metadata": {},
   "outputs": [],
   "source": [
    "import nltk\n",
    "from nltk.stem import WordNetLemmatizer\n",
    "lemmatizer = WordNetLemmatizer()\n",
    "\n",
    "example = \"The cat was chasing the mice\"\n",
    "example = [lemmatizer.lemmatize(token) for token in example.split(\" \")]"
   ]
  },
  {
   "cell_type": "code",
   "execution_count": 6,
   "metadata": {},
   "outputs": [
    {
     "name": "stdout",
     "output_type": "stream",
     "text": [
      "The cat wa chasing the mouse\n"
     ]
    }
   ],
   "source": [
    "print(\" \".join(example))"
   ]
  },
  {
   "cell_type": "code",
   "execution_count": 7,
   "metadata": {},
   "outputs": [
    {
     "name": "stdout",
     "output_type": "stream",
     "text": [
      "good\n"
     ]
    }
   ],
   "source": [
    "print(lemmatizer.lemmatize('better', pos = 'a'))"
   ]
  },
  {
   "cell_type": "code",
   "execution_count": 8,
   "metadata": {},
   "outputs": [],
   "source": [
    "from sklearn.feature_extraction.text import CountVectorizer\n",
    "#from sklearn.feature_extraction.text import TfidfVectorizer"
   ]
  },
  {
   "cell_type": "code",
   "execution_count": 21,
   "metadata": {},
   "outputs": [
    {
     "name": "stdout",
     "output_type": "stream",
     "text": [
      "[[0 0 0 0 0 0 0 0 0 0 0 0 0 0 0 0 0 0 0 0 0 0 0 0 0 0 0 0 0 0 0 0 0 0 0 0\n",
      "  0 0 0 0 0 0 0 0 0 0 0 0 0 0 0 0 0 0 0 0 0 0 0 0 0 0 0 0 0 0 0 0 0 0 0 0\n",
      "  0 0 0 0 0 0 0 0 0 0 0 0 0 0 0 0 0 0 1 0 0 0 0 0 0 0 0 0 0 0 0 0 0 0 0 0\n",
      "  0 0 0 0 0 0 0 0 1 0 0 0 0 0 0 0 0 0 0 0 0 0 0 0 0 0 0 0 0 0 0 0 0 0 0 0\n",
      "  0 0 0 0 0 0 0 0 0 0 0 0 0 0 0 0 0 0 0 0 0 0 0 0 0 0 0 0 0 0 0 0 0 0 0 0\n",
      "  0 0 0 0 0 0 0 0 0 0 0 0 0 0 0 0 0 0 0 0 0 0 0 0 0 0 0 0 0 0 0 0 0 0 0 0\n",
      "  0 0 0 0 0 0 0 0 0 0 0 0 0 0 0 0 0 0 0 0 0 0 0 0 0 0 0 0 0 0 0 0 0 0 0 0\n",
      "  0 0 0 0 0 0 0 0 0 0 0 0 0 0 0 0 0 0 0 0 0 0]]\n"
     ]
    }
   ],
   "source": [
    "vect=CountVectorizer(binary=True) #explore other parameters to\n",
    "corpus=['''One of the the finer books I read this year was John Kaags Hiking with Nietzsche, in which Kaag, a professor of philosophy, rekindles his passion for the German thinker while tracing picturesque iking trails in the mountains of Switzerland. \n",
    "It's a near precise rendering of the travelogue as a self help book. A young Kaag was an avowed Nietzsche acolyte but given the ravages of responsibilities and adulthood, the writer put his affinity to test by undertaking physically enduring hikes through the Alps, revisiting haunts that the philosopher escaped to, in search of solitude and salve. The journey's demands, coupled with his own inner turmoil, are catnip for anybody feeling at cross purposes with their own life.\n",
    "In the book, Kaag qyites Neitzsche writing to his mother after he had spent time in Splugen, \"I was overcome by the desire to remain here... this high alpine valley... There are pure, strong gusts of air, hills and boulders of all shapes... But what pleases me the most are the splendid highroads over which I walk for hours.\" Travel as the answer to searching questions is harddly a radical idea but what's endearing about the book is that it subtly confirms a basic tenet of why we go on these journeys in the first place. Sometimes, being on the move matters more than anything else.''','''\n",
    "\n",
    "Summer is a charming flirt. Easygoing and casual. summer doesn't huff and puff to win our affections. It has us at \"Hello.\" Winter broods like the tortured protagonist of big fat Russian novel. It is daunting and dramatic, burning with a slow intensity.\n",
    "The season's reputation precedes itslef, and often, not in a good way. It has a way of whittling down everything to its bare bones. Even relationships not attuned to its ebbs and flows can fray. At a dinner conversation I once attended, I listened in bemusement as a recent divorcee made the case that it was the Scandinavian frost that had cooled his ex-wife's ardour. How original.\n",
    "\n",
    "Winter travel is an exercise in negotiation, seepecially for sunshine souls. \"How many extra clothes do I have to pack now?\"\"The weather is minus what-did-you-say?\" All valid concerns but the recommendations far outweigh them. Take one trivial scorng point: the winter wardrobe, which is tred chic, and can make the most sartorially challenged among us look like runway models.\n",
    "The allure of winter lies in nature -- so immense, overwhelming and, of course, achingly beautiful. In his collection of letters to an unborn daughter, Norwegian Karl Ove Knausgard meditates on the sounds of the season.''']\n",
    "vect.fit(corpus)\n",
    "print(vect.transform([\"Today is good optical\"]).toarray())\n",
    "#print(vect.transform(corpus).toarray())"
   ]
  },
  {
   "cell_type": "code",
   "execution_count": 10,
   "metadata": {},
   "outputs": [
    {
     "name": "stdout",
     "output_type": "stream",
     "text": [
      "{}:{}\n",
      "{}:{}\n",
      "{}:{}\n",
      "{}:{}\n",
      "{}:{}\n",
      "{}:{}\n",
      "{}:{}\n",
      "{}:{}\n",
      "{}:{}\n"
     ]
    }
   ],
   "source": [
    "vocab = vect.vocabulary_  #vocabulary_  built-in\n",
    "for key in sorted(vocab.keys()):\n",
    "    print(\"{}:{}\")"
   ]
  },
  {
   "cell_type": "code",
   "execution_count": 11,
   "metadata": {},
   "outputs": [],
   "source": [
    "from sklearn.feature_extraction.text import TfidfVectorizer\n"
   ]
  },
  {
   "cell_type": "code",
   "execution_count": 23,
   "metadata": {},
   "outputs": [
    {
     "name": "stdout",
     "output_type": "stream",
     "text": [
      "[[0.70710678]]\n"
     ]
    }
   ],
   "source": [
    "from sklearn.metrics.pairwise import cosine_similarity\n",
    "similarity=cosine_similarity(vect.transform([\"Tesseract is good optical character recognition engine\"]).toarray(),vect.transform([\"optical character rcognition is different\"]).toarray())\n",
    "print(similarity)"
   ]
  },
  {
   "cell_type": "code",
   "execution_count": 20,
   "metadata": {},
   "outputs": [
    {
     "name": "stdout",
     "output_type": "stream",
     "text": [
      "[[0.15319084]]\n"
     ]
    }
   ],
   "source": [
    "similarity=cosine_similarity(vect.transform([\"One of the the finer books I read this year was John Kaags Hiking with Nietzsche, in which Kaag, a professor of philosophy, rekindles his passion for the German thinker while tracing picturesque iking trails in the mountains of Switzerland.\"]).toarray(),vect.transform(['''Summer is a charming flirt. Easygoing and casual. summer doesn't huff and puff to win our affections. It has us at \"Hello.\" Winter broods like the tortured protagonist of big fat Russian novel. ''']).toarray())\n",
    "print(similarity)"
   ]
  },
  {
   "cell_type": "code",
   "execution_count": null,
   "metadata": {},
   "outputs": [],
   "source": []
  }
 ],
 "metadata": {
  "kernelspec": {
   "display_name": "Python 3",
   "language": "python",
   "name": "python3"
  },
  "language_info": {
   "codemirror_mode": {
    "name": "ipython",
    "version": 3
   },
   "file_extension": ".py",
   "mimetype": "text/x-python",
   "name": "python",
   "nbconvert_exporter": "python",
   "pygments_lexer": "ipython3",
   "version": "3.7.0"
  }
 },
 "nbformat": 4,
 "nbformat_minor": 2
}
